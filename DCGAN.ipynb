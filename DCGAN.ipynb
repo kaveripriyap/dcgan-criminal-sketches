{
  "nbformat": 4,
  "nbformat_minor": 0,
  "metadata": {
    "colab": {
      "name": "DCGAN",
      "provenance": [],
      "authorship_tag": "ABX9TyOR1z8+XLF5h+1ZBH1Krcpo",
      "include_colab_link": true
    },
    "kernelspec": {
      "name": "python3",
      "display_name": "Python 3"
    }
  },
  "cells": [
    {
      "cell_type": "markdown",
      "metadata": {
        "id": "view-in-github",
        "colab_type": "text"
      },
      "source": [
        "<a href=\"https://colab.research.google.com/github/kaveripriyap/dcgan-criminal-sketches/blob/main/DCGAN.ipynb\" target=\"_parent\"><img src=\"https://colab.research.google.com/assets/colab-badge.svg\" alt=\"Open In Colab\"/></a>"
      ]
    },
    {
      "cell_type": "markdown",
      "metadata": {
        "id": "p8mcwpVoi1DY"
      },
      "source": [
        "### **Imports**"
      ]
    },
    {
      "cell_type": "code",
      "metadata": {
        "id": "Ofn_bxjtgWXL"
      },
      "source": [
        "from keras.layers import Input, Reshape, Dropout, Dense, Flatten, BatchNormalization, Activation, ZeroPadding2D\r\n",
        "from keras.layers.advanced_activations import LeakyReLU\r\n",
        "from keras.layers.convolutional import UpSampling2D, Conv2D\r\n",
        "from keras.models import Sequential, Model, load_model\r\n",
        "from keras.optimizers import Adam\r\n",
        "import numpy as np\r\n",
        "from PIL import Image\r\n",
        "from tqdm import tqdm\r\n",
        "import os "
      ],
      "execution_count": null,
      "outputs": []
    },
    {
      "cell_type": "markdown",
      "metadata": {
        "id": "kcQWmUlYh__F"
      },
      "source": [
        "### **Mounting** **Drive**"
      ]
    },
    {
      "cell_type": "code",
      "metadata": {
        "id": "dkL_l9vagp8e"
      },
      "source": [
        "from google.colab import drive\r\n",
        "drive.mount('/content/drive')"
      ],
      "execution_count": null,
      "outputs": []
    },
    {
      "cell_type": "markdown",
      "metadata": {
        "id": "KV13L6jBi9Me"
      },
      "source": [
        "### **Initialisation**"
      ]
    },
    {
      "cell_type": "code",
      "metadata": {
        "id": "VIMY7FVtgtEB"
      },
      "source": [
        "GENERATE_RES = 2 # (1=32, 2=64, 3=96, etc.)\r\n",
        "GENERATE_SQUARE = 32 * GENERATE_RES # rows/cols (should be square)\r\n",
        "IMAGE_CHANNELS = 3\r\n",
        "\r\n",
        "PREVIEW_ROWS = 4\r\n",
        "PREVIEW_COLS = 7\r\n",
        "PREVIEW_MARGIN = 16\r\n",
        "SAVE_FREQ = 100\r\n",
        "\r\n",
        "SEED_SIZE = 100\r\n",
        "\r\n",
        "DATA_PATH = '/content/drive/My Drive/projects/faces'\r\n",
        "EPOCHS = 10000\r\n",
        "BATCH_SIZE = 32\r\n",
        "\r\n",
        "training_binary_path = os.path.join(DATA_PATH,f'training_data_{GENERATE_SQUARE}_{GENERATE_SQUARE}.npy')\r\n",
        "\r\n",
        "print(f\"Looking for file: {training_binary_path}\")\r\n",
        "\r\n",
        "if not os.path.isfile(training_binary_path):\r\n",
        "  print(\"Loading training images...\")\r\n",
        "\r\n",
        "  training_data = []\r\n",
        "  faces_path = os.path.join(DATA_PATH,'face_images')\r\n",
        "  for filename in tqdm(os.listdir(faces_path)):\r\n",
        "      path = os.path.join(faces_path,filename)\r\n",
        "      image = Image.open(path).resize((GENERATE_SQUARE,GENERATE_SQUARE),Image.ANTIALIAS)\r\n",
        "      training_data.append(np.asarray(image))\r\n",
        "  training_data = np.reshape(training_data,(-1,GENERATE_SQUARE,GENERATE_SQUARE,IMAGE_CHANNELS))\r\n",
        "  training_data = training_data / 127.5 - 1.\r\n",
        "\r\n",
        "  print(\"Saving training image binary...\")\r\n",
        "  np.save(training_binary_path,training_data)\r\n",
        "else:\r\n",
        "  print(\"Loading previous training pickle...\")\r\n",
        "  training_data = np.load(training_binary_path)"
      ],
      "execution_count": null,
      "outputs": []
    },
    {
      "cell_type": "markdown",
      "metadata": {
        "id": "NcG4Ekw3hJwx"
      },
      "source": [
        "### **Generator**"
      ]
    },
    {
      "cell_type": "code",
      "metadata": {
        "id": "Iiubf3DvgzmG"
      },
      "source": [
        "def build_generator(seed_size, channels):\r\n",
        "    model = Sequential()\r\n",
        "\r\n",
        "    model.add(Dense(4*4*256,activation=\"relu\",input_dim=seed_size))\r\n",
        "    model.add(Reshape((4,4,256)))\r\n",
        "\r\n",
        "    model.add(UpSampling2D())\r\n",
        "    model.add(Conv2D(256,kernel_size=3,padding=\"same\"))\r\n",
        "    model.add(BatchNormalization(momentum=0.8))\r\n",
        "    model.add(Activation(\"relu\"))\r\n",
        "\r\n",
        "    model.add(UpSampling2D())\r\n",
        "    model.add(Conv2D(256,kernel_size=3,padding=\"same\"))\r\n",
        "    model.add(BatchNormalization(momentum=0.8))\r\n",
        "    model.add(Activation(\"relu\"))\r\n",
        "   \r\n",
        "    # Output resolution, additional upsampling\r\n",
        "    for i in range(GENERATE_RES):\r\n",
        "      model.add(UpSampling2D())\r\n",
        "      model.add(Conv2D(128,kernel_size=3,padding=\"same\"))\r\n",
        "      model.add(BatchNormalization(momentum=0.8))\r\n",
        "      model.add(Activation(\"relu\"))\r\n",
        "\r\n",
        "    # Final CNN layer\r\n",
        "    model.add(Conv2D(channels,kernel_size=3,padding=\"same\"))\r\n",
        "    model.add(Activation(\"tanh\"))\r\n",
        "\r\n",
        "    input = Input(shape=(seed_size,))\r\n",
        "    generated_image = model(input)\r\n",
        "\r\n",
        "    return Model(input,generated_image)"
      ],
      "execution_count": null,
      "outputs": []
    },
    {
      "cell_type": "markdown",
      "metadata": {
        "id": "_bhBQzQOg-vz"
      },
      "source": [
        "### **Discriminator**"
      ]
    },
    {
      "cell_type": "code",
      "metadata": {
        "id": "r-tsufZVgmXU"
      },
      "source": [
        "def build_discriminator(image_shape):\r\n",
        "    model = Sequential()\r\n",
        "\r\n",
        "    model.add(Conv2D(32, kernel_size=3, strides=2, input_shape=image_shape, padding=\"same\"))\r\n",
        "    model.add(LeakyReLU(alpha=0.2))\r\n",
        "\r\n",
        "    model.add(Dropout(0.25))\r\n",
        "    model.add(Conv2D(64, kernel_size=3, strides=2, padding=\"same\"))\r\n",
        "    model.add(ZeroPadding2D(padding=((0,1),(0,1))))\r\n",
        "    model.add(BatchNormalization(momentum=0.8))\r\n",
        "    model.add(LeakyReLU(alpha=0.2))\r\n",
        "\r\n",
        "    model.add(Dropout(0.25))\r\n",
        "    model.add(Conv2D(128, kernel_size=3, strides=2, padding=\"same\"))\r\n",
        "    model.add(BatchNormalization(momentum=0.8))\r\n",
        "    model.add(LeakyReLU(alpha=0.2))\r\n",
        "\r\n",
        "    model.add(Dropout(0.25))\r\n",
        "    model.add(Conv2D(256, kernel_size=3, strides=1, padding=\"same\"))\r\n",
        "    model.add(BatchNormalization(momentum=0.8))\r\n",
        "    model.add(LeakyReLU(alpha=0.2))\r\n",
        "\r\n",
        "    model.add(Dropout(0.25))\r\n",
        "    model.add(Conv2D(512, kernel_size=3, strides=1, padding=\"same\"))\r\n",
        "    model.add(BatchNormalization(momentum=0.8))\r\n",
        "    model.add(LeakyReLU(alpha=0.2))\r\n",
        "\r\n",
        "    model.add(Dropout(0.25))\r\n",
        "    model.add(Flatten())\r\n",
        "    model.add(Dense(1, activation='sigmoid'))\r\n",
        "\r\n",
        "    input_image = Input(shape=image_shape)\r\n",
        "\r\n",
        "    validity = model(input_image)\r\n",
        "\r\n",
        "    return Model(input_image, validity)"
      ],
      "execution_count": null,
      "outputs": []
    },
    {
      "cell_type": "markdown",
      "metadata": {
        "id": "Bxhir_iihuw0"
      },
      "source": [
        "### **Saving** **Images**"
      ]
    },
    {
      "cell_type": "code",
      "metadata": {
        "id": "F1bGw18Mgnq5"
      },
      "source": [
        "def save_images(cnt,noise):\r\n",
        "  image_array = np.full(( \r\n",
        "      PREVIEW_MARGIN + (PREVIEW_ROWS * (GENERATE_SQUARE+PREVIEW_MARGIN)), \r\n",
        "      PREVIEW_MARGIN + (PREVIEW_COLS * (GENERATE_SQUARE+PREVIEW_MARGIN)), 3), \r\n",
        "      255, dtype=np.uint8)\r\n",
        "  \r\n",
        "  generated_images = generator.predict(noise)\r\n",
        "\r\n",
        "  generated_images = 0.5 * generated_images + 0.5\r\n",
        "\r\n",
        "  image_count = 0\r\n",
        "  for row in range(PREVIEW_ROWS):\r\n",
        "      for col in range(PREVIEW_COLS):\r\n",
        "        r = row * (GENERATE_SQUARE+16) + PREVIEW_MARGIN\r\n",
        "        c = col * (GENERATE_SQUARE+16) + PREVIEW_MARGIN\r\n",
        "        image_array[r:r+GENERATE_SQUARE,c:c+GENERATE_SQUARE] = generated_images[image_count] * 255\r\n",
        "        image_count += 1\r\n",
        "\r\n",
        "          \r\n",
        "  output_path = os.path.join(DATA_PATH,'output')\r\n",
        "  if not os.path.exists(output_path):\r\n",
        "    os.makedirs(output_path)\r\n",
        "  \r\n",
        "  filename = os.path.join(output_path,f\"train-{cnt}.png\")\r\n",
        "  im = Image.fromarray(image_array)\r\n",
        "  im.save(filename)\r\n"
      ],
      "execution_count": null,
      "outputs": []
    },
    {
      "cell_type": "markdown",
      "metadata": {
        "id": "_SAZOvLih8ke"
      },
      "source": [
        "### **Main**"
      ]
    },
    {
      "cell_type": "code",
      "metadata": {
        "id": "SFOGYi8sgnzg"
      },
      "source": [
        "image_shape = (GENERATE_SQUARE,GENERATE_SQUARE,IMAGE_CHANNELS)\r\n",
        "optimizer = Adam(1.5e-4,0.5) # learning rate and momentum adjusted from paper\r\n",
        "\r\n",
        "discriminator = build_discriminator(image_shape)\r\n",
        "discriminator.compile(loss=\"binary_crossentropy\",optimizer=optimizer,metrics=[\"accuracy\"])\r\n",
        "generator = build_generator(SEED_SIZE,IMAGE_CHANNELS)\r\n",
        "\r\n",
        "random_input = Input(shape=(SEED_SIZE,))\r\n",
        "\r\n",
        "generated_image = generator(random_input)\r\n",
        "\r\n",
        "discriminator.trainable = False\r\n",
        "\r\n",
        "validity = discriminator(generated_image)\r\n",
        "\r\n",
        "combined = Model(random_input,validity)\r\n",
        "combined.compile(loss=\"binary_crossentropy\",optimizer=optimizer,metrics=[\"accuracy\"])\r\n",
        "\r\n",
        "y_real = np.ones((BATCH_SIZE,1))\r\n",
        "y_fake = np.zeros((BATCH_SIZE,1))\r\n",
        "\r\n",
        "fixed_seed = np.random.normal(0, 1, (PREVIEW_ROWS * PREVIEW_COLS, SEED_SIZE))\r\n",
        "\r\n",
        "cnt = 1\r\n",
        "for epoch in range(EPOCHS):\r\n",
        "    idx = np.random.randint(0,training_data.shape[0],BATCH_SIZE)\r\n",
        "    x_real = training_data[idx]\r\n",
        "\r\n",
        "    seed = np.random.normal(0,1,(BATCH_SIZE,SEED_SIZE))\r\n",
        "    x_fake = generator.predict(seed)\r\n",
        "\r\n",
        "    discriminator_metric_real = discriminator.train_on_batch(x_real,y_real)\r\n",
        "    discriminator_metric_generated = discriminator.train_on_batch(x_fake,y_fake)\r\n",
        "    discriminator_metric = 0.5 * np.add(discriminator_metric_real,discriminator_metric_generated)\r\n",
        "    \r\n",
        "    generator_metric = combined.train_on_batch(seed,y_real)\r\n",
        "    \r\n",
        "    if epoch % SAVE_FREQ == 0:\r\n",
        "        save_images(cnt, fixed_seed)\r\n",
        "        cnt += 1\r\n",
        "        print(f\"Epoch {epoch}, Discriminator accuracy: {discriminator_metric[1]}, Generator accuracy: {generator_metric[1]}\")\r\n",
        "        \r\n",
        "generator.save(os.path.join(DATA_PATH,\"face_generator.h5\"))"
      ],
      "execution_count": null,
      "outputs": []
    }
  ]
}